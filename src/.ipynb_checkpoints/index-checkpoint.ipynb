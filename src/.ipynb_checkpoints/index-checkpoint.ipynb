{
 "cells": [
  {
   "cell_type": "code",
   "execution_count": 4,
   "metadata": {},
   "outputs": [
    {
     "name": "stderr",
     "output_type": "stream",
     "text": [
      "C:\\Users\\Administrador\\Desktop\\Rocketseat\\IA\\langgraph_hierachical_agents\\node_modules\\@langchain\\community\\dist\\tools\\tavily_search.cjs:112\n",
      "            throw new Error(`No Tavily API key found. Either set an environment variable named \"TAVILY_API_KEY\" or pass an API key as \"apiKey\".`);\n",
      "            ^\n",
      "\n",
      "Error: No Tavily API key found. Either set an environment variable named \"TAVILY_API_KEY\" or pass an API key as \"apiKey\".\n",
      "    at new TavilySearchResults (C:\\Users\\Administrador\\Desktop\\Rocketseat\\IA\\langgraph_hierachical_agents\\node_modules\\\u001b[4m@langchain\u001b[24m\\community\\dist\\tools\\tavily_search.cjs:112:19)\n",
      "    at evalmachine.<anonymous>:11:20\n",
      "    at evalmachine.<anonymous>:28:3\n",
      "\u001b[90m    at sigintHandlersWrap (node:vm:266:12)\u001b[39m\n",
      "\u001b[90m    at Script.runInThisContext (node:vm:119:14)\u001b[39m\n",
      "\u001b[90m    at Object.runInThisContext (node:vm:303:38)\u001b[39m\n",
      "    at Object.execute (C:\\Users\\Administrador\\Desktop\\Rocketseat\\IA\\langgraph_hierachical_agents\\node_modules\\\u001b[4mtslab\u001b[24m\\dist\\executor.js:160:38)\n",
      "    at JupyterHandlerImpl.handleExecuteImpl (C:\\Users\\Administrador\\Desktop\\Rocketseat\\IA\\langgraph_hierachical_agents\\node_modules\\\u001b[4mtslab\u001b[24m\\dist\\jupyter.js:250:38)\n",
      "    at C:\\Users\\Administrador\\Desktop\\Rocketseat\\IA\\langgraph_hierachical_agents\\node_modules\\\u001b[4mtslab\u001b[24m\\dist\\jupyter.js:208:57\n",
      "    at async JupyterHandlerImpl.handleExecute (C:\\Users\\Administrador\\Desktop\\Rocketseat\\IA\\langgraph_hierachical_agents\\node_modules\\\u001b[4mtslab\u001b[24m\\dist\\jupyter.js:208:21)\n"
     ]
    }
   ],
   "source": [
    "process.env.TAVILY_API_KEY = \"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\";\n",
    "\n",
    "import { TavilySearchResults } from \"@langchain/community/tools/tavily_search\";\n",
    "import { CheerioWebBaseLoader } from \"@langchain/community/document_loaders/web/cheerio\";\n",
    "import { DynamicStructuredTool } from \"@langchain/core/tools\";\n",
    "import { z } from \"zod\";\n",
    "\n",
    "const tavilyTool = new TavilySearchResults();\n",
    "\n",
    "const scrapeWebpage = new DynamicStructuredTool({\n",
    "  name: \"scrape_webpage\",\n",
    "  description: \"Scrape the contents of a webpage.\",\n",
    "  schema: z.object({\n",
    "    url: z.string(),\n",
    "  }),\n",
    "  func: async ({ url }) => {\n",
    "    const loader = new CheerioWebBaseLoader(url);\n",
    "    const docs = await loader.load();\n",
    "    const formattedDocs = docs.map(\n",
    "      (doc) =>\n",
    "        `<Document name=\"${doc.metadata?.title}\">\\n${doc.pageContent}\\n</Document>`,\n",
    "    );\n",
    "    return formattedDocs.join(\"\\n\\n\");\n",
    "  },\n",
    "});"
   ]
  },
  {
   "cell_type": "code",
   "execution_count": null,
   "metadata": {},
   "outputs": [
    {
     "name": "stderr",
     "output_type": "stream",
     "text": [
      "unexpected error: TypeError: Cannot read properties of undefined (reading 'parent')\n",
      "    at getDeclarationContainer (C:\\Users\\Administrador\\Desktop\\Rocketseat\\IA\\langgraph_hierachical_agents\\node_modules\\\u001b[4m@tslab\u001b[24m\\typescript-for-tslab\\lib\\typescript.js:52993:9)\n",
      "    at determineIfDeclarationIsVisible (C:\\Users\\Administrador\\Desktop\\Rocketseat\\IA\\langgraph_hierachical_agents\\node_modules\\\u001b[4m@tslab\u001b[24m\\typescript-for-tslab\\lib\\typescript.js:52822:29)\n",
      "    at Object.isDeclarationVisible (C:\\Users\\Administrador\\Desktop\\Rocketseat\\IA\\langgraph_hierachical_agents\\node_modules\\\u001b[4m@tslab\u001b[24m\\typescript-for-tslab\\lib\\typescript.js:52795:31)\n",
      "    at getBindingNameVisible (C:\\Users\\Administrador\\Desktop\\Rocketseat\\IA\\langgraph_hierachical_agents\\node_modules\\\u001b[4m@tslab\u001b[24m\\typescript-for-tslab\\lib\\typescript.js:107624:25)\n",
      "    at forEach (C:\\Users\\Administrador\\Desktop\\Rocketseat\\IA\\langgraph_hierachical_agents\\node_modules\\\u001b[4m@tslab\u001b[24m\\typescript-for-tslab\\lib\\typescript.js:59:24)\n",
      "    at transformVariableStatement (C:\\Users\\Administrador\\Desktop\\Rocketseat\\IA\\langgraph_hierachical_agents\\node_modules\\\u001b[4m@tslab\u001b[24m\\typescript-for-tslab\\lib\\typescript.js:108532:12)\n",
      "    at transformTopLevelDeclaration (C:\\Users\\Administrador\\Desktop\\Rocketseat\\IA\\langgraph_hierachical_agents\\node_modules\\\u001b[4m@tslab\u001b[24m\\typescript-for-tslab\\lib\\typescript.js:108501:26)\n",
      "    at visitDeclarationStatements (C:\\Users\\Administrador\\Desktop\\Rocketseat\\IA\\langgraph_hierachical_agents\\node_modules\\\u001b[4m@tslab\u001b[24m\\typescript-for-tslab\\lib\\typescript.js:108167:22)\n",
      "    at visitArrayWorker (C:\\Users\\Administrador\\Desktop\\Rocketseat\\IA\\langgraph_hierachical_agents\\node_modules\\\u001b[4m@tslab\u001b[24m\\typescript-for-tslab\\lib\\typescript.js:85440:51)\n",
      "    at visitNodes2 (C:\\Users\\Administrador\\Desktop\\Rocketseat\\IA\\langgraph_hierachical_agents\\node_modules\\\u001b[4m@tslab\u001b[24m\\typescript-for-tslab\\lib\\typescript.js:85411:21)\n"
     ]
    }
   ],
   "source": [
    "require(\"esm-hook\")\n",
    "\n",
    "import { chartTool } from './tools/DocumentWritingTeam/chartTool.js'\n",
    "import { readDocumentTool } from './tools/DocumentWritingTeam/readDocumentTool.js'\n",
    "import { writeDocumentTool } from './tools/DocumentWritingTeam/writeDocumentTool.js'\n",
    "\n",
    "async function main() {\n",
    "  await writeDocumentTool.invoke({\n",
    "    content: 'Hello from LangGraph!',\n",
    "    file_name: 'hello.txt'\n",
    "  })\n",
    "\n",
    "  await readDocumentTool.invoke({ file_name: 'hello.txt' })\n",
    "\n",
    "  await chartTool.invoke({\n",
    "    data: [\n",
    "      { label: 'People who like graphs', value: 5000 },\n",
    "      {\n",
    "        label: 'People who like LangGraph',\n",
    "        value: 10000\n",
    "      }\n",
    "    ]\n",
    "  })\n",
    "}\n",
    "main()\n"
   ]
  }
 ],
 "metadata": {
  "kernelspec": {
   "display_name": "TypeScript",
   "language": "typescript",
   "name": "tslab"
  },
  "language_info": {
   "codemirror_mode": {
    "mode": "typescript",
    "name": "javascript",
    "typescript": true
   },
   "file_extension": ".ts",
   "mimetype": "text/typescript",
   "name": "typescript",
   "version": "3.7.2"
  }
 },
 "nbformat": 4,
 "nbformat_minor": 4
}
